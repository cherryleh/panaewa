{
 "cells": [
  {
   "cell_type": "code",
   "execution_count": 1,
   "id": "5ebed6d2",
   "metadata": {},
   "outputs": [],
   "source": [
    "import geopandas as gpd\n",
    "import rasterio\n",
    "import pandas as pd\n",
    "from rasterstats import zonal_stats"
   ]
  },
  {
   "cell_type": "code",
   "execution_count": 27,
   "id": "114f7628",
   "metadata": {},
   "outputs": [],
   "source": [
    "ranchshp = gpd.read_file('../data/sample.shp')\n",
    "rh_file=f\"../data/relative_humidity_daily.tif\"\n",
    "with rasterio.open(rh_file) as src:\n",
    "    affine = src.transform\n",
    "    array = src.read(1)\n",
    "    df_zonal_stats = pd.DataFrame(zonal_stats(ranchshp, array, affine=affine,nodata=src.nodata,stats = ['mean']))\n",
    "\n",
    "relative_humidity = df_zonal_stats['mean'].iloc[0]"
   ]
  },
  {
   "cell_type": "code",
   "execution_count": null,
   "id": "e12ba5af",
   "metadata": {},
   "outputs": [],
   "source": [
    "tmean_daily_file=f\"../data/tmean_daily.tif\""
   ]
  },
  {
   "cell_type": "code",
   "execution_count": null,
   "id": "4054d0f8",
   "metadata": {},
   "outputs": [],
   "source": [
    "tmean_daily_file=f\"../data/tmean_daily.tif\"\n",
    "with rasterio.open(tmean_daily_file) as src:\n",
    "    affine = src.transform\n",
    "    array = src.read(1)\n",
    "    df_zonal_stats = pd.DataFrame(zonal_stats(ranchshp, array, affine=affine,nodata=src.nodata,stats = ['mean']))\n",
    "\n",
    "tmean_daily = df_zonal_stats['mean'].iloc[0]"
   ]
  },
  {
   "cell_type": "code",
   "execution_count": 32,
   "id": "dc608700",
   "metadata": {},
   "outputs": [],
   "source": [
    "tmean_monthly_file=f\"../data/tmean_monthly.tif\"\n",
    "with rasterio.open(tmean_monthly_file) as src:\n",
    "    affine = src.transform\n",
    "    array = src.read(1)\n",
    "    df_zonal_stats = pd.DataFrame(zonal_stats(ranchshp, array, affine=affine,nodata=src.nodata,stats = ['mean']))\n",
    "\n",
    "tmean_monthly = df_zonal_stats['mean'].iloc[0]"
   ]
  },
  {
   "cell_type": "code",
   "execution_count": null,
   "id": "16602106",
   "metadata": {},
   "outputs": [],
   "source": [
    "rf_daily_file=f\"../data/rainfall_daily.tif\"\n",
    "with rasterio.open(rf_daily_file) as src:\n",
    "    affine = src.transform\n",
    "    array = src.read(1)\n",
    "    df_zonal_stats = pd.DataFrame(zonal_stats(ranchshp, array, affine=affine,nodata=src.nodata,stats = ['sum']))\n",
    "\n",
    "rf_daily = df_zonal_stats['sum'].iloc[0]"
   ]
  },
  {
   "cell_type": "code",
   "execution_count": 31,
   "id": "dcf47413",
   "metadata": {},
   "outputs": [],
   "source": [
    "rf_monthly_file=f\"../data/rainfall_monthly.tif\"\n",
    "with rasterio.open(rf_monthly_file) as src:\n",
    "    affine = src.transform\n",
    "    array = src.read(1)\n",
    "    df_zonal_stats = pd.DataFrame(zonal_stats(ranchshp, array, affine=affine,nodata=src.nodata,stats = ['sum']))\n",
    "\n",
    "rf_monthly = df_zonal_stats['sum'].iloc[0]"
   ]
  },
  {
   "cell_type": "code",
   "execution_count": null,
   "id": "de59c5c9",
   "metadata": {},
   "outputs": [],
   "source": []
  }
 ],
 "metadata": {
  "kernelspec": {
   "display_name": ".venv",
   "language": "python",
   "name": "python3"
  },
  "language_info": {
   "codemirror_mode": {
    "name": "ipython",
    "version": 3
   },
   "file_extension": ".py",
   "mimetype": "text/x-python",
   "name": "python",
   "nbconvert_exporter": "python",
   "pygments_lexer": "ipython3",
   "version": "3.11.5"
  }
 },
 "nbformat": 4,
 "nbformat_minor": 5
}
